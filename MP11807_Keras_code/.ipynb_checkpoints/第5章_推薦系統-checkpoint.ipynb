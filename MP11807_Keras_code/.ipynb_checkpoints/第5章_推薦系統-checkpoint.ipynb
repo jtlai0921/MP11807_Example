{
 "cells": [
  {
   "cell_type": "markdown",
   "metadata": {},
   "source": [
    "本程式碼應用movielens 的資料集，講解如何利用深度學習構造推薦系統模型。推薦系統的目標函數有很多，比如推薦評分最高的，或者推薦點擊率最高的等等。有時候我們還會兼顧推薦內容的多樣性。我們在這裡講解的是最根本的基於使用者給內容打分的情形。這裡的核心思想是對使用者和內容建模，從而預測使用者對未看過內容的打分。推薦系統進而會把預測的高分內容呈現給使用者。"
   ]
  },
  {
   "cell_type": "code",
   "execution_count": 1,
   "metadata": {
    "collapsed": false
   },
   "outputs": [
    {
     "name": "stderr",
     "output_type": "stream",
     "text": [
      "Using CNTK backend\n",
      "C:\\Anaconda3\\lib\\site-packages\\keras\\backend\\cntk_backend.py:21: UserWarning: CNTK backend warning: GPU is not detected. CNTK's CPU version is not fully optimized,please run with GPU to get better performance.\n",
      "  'CNTK backend warning: GPU is not detected. '\n"
     ]
    }
   ],
   "source": [
    "import math\n",
    "import pandas as pd\n",
    "import numpy as np\n",
    "import matplotlib.pyplot as plt\n",
    "from keras.models import Sequential\n",
    "from keras.layers import Embedding, Dropout, Dense, Reshape\n",
    "from keras.layers.merge import Dot, Concatenate\n",
    "from keras.models import Model, Input"
   ]
  },
  {
   "cell_type": "markdown",
   "metadata": {},
   "source": [
    "依常規，我們首先得進行探索性分析，看看資料集和評分分佈長什麼樣子的。借此我們還要計算評分稀疏性，因為所有的推薦系統都是基於大量缺失資料的。在這裡，我們的思路是預測整個評分表，把缺失資料還原。"
   ]
  },
  {
   "cell_type": "code",
   "execution_count": 2,
   "metadata": {
    "collapsed": false
   },
   "outputs": [
    {
     "name": "stdout",
     "output_type": "stream",
     "text": [
      "[6040, 3952, 1000209]\n"
     ]
    },
    {
     "data": {
      "image/png": "[encoded data removed]",
      "text/plain": [
       "<matplotlib.figure.Figure at 0x18c00d30>"
      ]
     },
     "metadata": {},
     "output_type": "display_data"
    },
    {
     "name": "stdout",
     "output_type": "stream",
     "text": [
      "3.581564453029317\n"
     ]
    }
   ],
   "source": [
    "ratings = pd.read_csv('./data/ratings.dat', sep = '::', \\\n",
    "    engine='python',names = ['user_id','movie_id','rating','timestamp'])\n",
    "n_users = np.max(ratings['user_id'])\n",
    "n_movies = np.max(ratings['movie_id'])\n",
    "print([n_users, n_movies, len(ratings)])\n",
    "\n",
    "plt.hist(ratings['rating'])\n",
    "plt.show()\n",
    "print(np.mean(ratings['rating']))\n"
   ]
  },
  {
   "cell_type": "markdown",
   "metadata": {},
   "source": [
    "接下來我們進行對使用者和內容的建模，使用的是我們熟悉的Emdbedding思想。我們使用的Embedding維度為128。讀者可以自行調整。"
   ]
  },
  {
   "cell_type": "code",
   "execution_count": 3,
   "metadata": {
    "collapsed": true
   },
   "outputs": [],
   "source": [
    "k = 128    \n",
    "model1 = Sequential()\n",
    "model1.add(Embedding(n_users + 1, k, input_length = 1))\n",
    "model1.add(Reshape((k,)))\n",
    "model2 = Sequential()\n",
    "model2.add(Embedding(n_movies + 1, k, input_length = 1))\n",
    "model2.add(Reshape((k,)))"
   ]
  },
  {
   "cell_type": "code",
   "execution_count": 4,
   "metadata": {
    "collapsed": false
   },
   "outputs": [
    {
     "data": {
      "text/plain": [
       "(Input('embedding_2_input', [#], [1]),\n",
       " Composite(Reshape): Input('embedding_2_input', [#], [1]) -> Output('Reshape21_Output_0', [#], [128]))"
      ]
     },
     "execution_count": 4,
     "metadata": {},
     "output_type": "execute_result"
    }
   ],
   "source": [
    "model2.input, model2.output"
   ]
  },
  {
   "cell_type": "markdown",
   "metadata": {},
   "source": [
    "我們的思路是通過計算使用者和內容的向量乘積，得出評分。"
   ]
  },
  {
   "cell_type": "code",
   "execution_count": 5,
   "metadata": {
    "collapsed": true
   },
   "outputs": [],
   "source": [
    "model = Sequential()\n",
    "m = Dot(axes=1)([model1.output, model2.output])\n",
    "model_output = m\n",
    "model = Model([model1.input, model2.input], model_output)\n",
    "model.compile(loss = 'mse', optimizer = 'adam')\n",
    "#model.compile(loss = 'mse', optimizer = 'rmsprop')\n",
    "#model.compile(loss = 'mse', optimizer = 'adagrad')"
   ]
  },
  {
   "cell_type": "markdown",
   "metadata": {},
   "source": [
    "準備好訓練資料，代入模型。"
   ]
  },
  {
   "cell_type": "code",
   "execution_count": 6,
   "metadata": {
    "collapsed": true
   },
   "outputs": [],
   "source": [
    "users = ratings['user_id'].values\n",
    "movies = ratings['movie_id'].values\n",
    "X_train = [users, movies]\n",
    "y_train = ratings['rating'].values"
   ]
  },
  {
   "cell_type": "code",
   "execution_count": 7,
   "metadata": {
    "collapsed": false
   },
   "outputs": [
    {
     "name": "stdout",
     "output_type": "stream",
     "text": [
      "Epoch 1/10\n",
      "1000209/1000209 [==============================] - 105s 105us/step - loss: 4.2212\n",
      "Epoch 2/10\n",
      "1000209/1000209 [==============================] - 96s 96us/step - loss: 0.8128\n",
      "Epoch 3/10\n",
      "1000209/1000209 [==============================] - 90s 90us/step - loss: 0.7381\n",
      "Epoch 4/10\n",
      "1000209/1000209 [==============================] - 96s 96us/step - loss: 0.6741\n",
      "Epoch 5/10\n",
      "1000209/1000209 [==============================] - 103s 103us/step - loss: 0.6096\n",
      "Epoch 6/10\n",
      "1000209/1000209 [==============================] - 103s 103us/step - loss: 0.5410\n",
      "Epoch 7/10\n",
      "1000209/1000209 [==============================] - 104s 104us/step - loss: 0.4718\n",
      "Epoch 8/10\n",
      "1000209/1000209 [==============================] - 110s 110us/step - loss: 0.4073\n",
      "Epoch 9/10\n",
      "1000209/1000209 [==============================] - 107s 107us/step - loss: 0.3527\n",
      "Epoch 10/10\n",
      "1000209/1000209 [==============================] - 112s 112us/step - loss: 0.3085\n"
     ]
    },
    {
     "data": {
      "text/plain": [
       "<keras.callbacks.History at 0xb1385f8>"
      ]
     },
     "execution_count": 7,
     "metadata": {},
     "output_type": "execute_result"
    }
   ],
   "source": [
    "model.fit(X_train, y_train, batch_size = 500, epochs = 10)"
   ]
  },
  {
   "cell_type": "markdown",
   "metadata": {},
   "source": [
    "我們看下模型預測效果。注意到我們這裡作為演示，只做了模型擬合程度，讀者可以把原始資料集分成訓練，校對和測試資料集，評估模型準確率。我們這裡看一個例子，預測第10號使用者對第99號內容的打分。"
   ]
  },
  {
   "cell_type": "code",
   "execution_count": 8,
   "metadata": {
    "collapsed": true
   },
   "outputs": [],
   "source": [
    "i=10\n",
    "j=99\n",
    "pred = model.predict([np.array([users[i]]), np.array([movies[j]])])"
   ]
  },
  {
   "cell_type": "code",
   "execution_count": 9,
   "metadata": {
    "collapsed": false
   },
   "outputs": [
    {
     "name": "stdout",
     "output_type": "stream",
     "text": [
      "[[ 3.28836274]]\n"
     ]
    }
   ],
   "source": [
    "print(pred)"
   ]
  },
  {
   "cell_type": "markdown",
   "metadata": {},
   "source": [
    "我們計算模型在訓練資料集上的均方差。這告訴我們擬合程度的好壞。"
   ]
  },
  {
   "cell_type": "code",
   "execution_count": 10,
   "metadata": {
    "collapsed": false
   },
   "outputs": [
    {
     "name": "stdout",
     "output_type": "stream",
     "text": [
      "1000209/1000209 [==============================] - 17s 17us/step\n",
      "0.246163891641\n"
     ]
    }
   ],
   "source": [
    "mse = model.evaluate(x=X_train, y = y_train, batch_size=128)\n",
    "print(mse)"
   ]
  },
  {
   "cell_type": "markdown",
   "metadata": {},
   "source": [
    "我們接下來構建深度學習模型。這裡的想法與上述稍微不同。我們把使用者和內容的Embedding合併在一起（concatenate)，作為輸入層，然後通過網路模型提取一層層特徵，最後用線性變換得出預測評分。"
   ]
  },
  {
   "cell_type": "code",
   "execution_count": 11,
   "metadata": {
    "collapsed": true
   },
   "outputs": [],
   "source": [
    "k = 128\n",
    "input_1 = Input(shape=(1,))\n",
    "model1 = Embedding(n_users + 1, k, input_length = 1)(input_1)\n",
    "model1 = Reshape((k,))(model1)\n",
    "input_2 = Input(shape=(1,))\n",
    "model2 = Embedding(n_movies + 1, k, input_length = 1)(input_2)\n",
    "model2 = Reshape((k,))(model2)"
   ]
  },
  {
   "cell_type": "code",
   "execution_count": 12,
   "metadata": {
    "collapsed": false
   },
   "outputs": [
    {
     "data": {
      "text/plain": [
       "(Input('input_1', [#], [1]),\n",
       " Input('input_2', [#], [1]),\n",
       " Composite(Reshape): Input('input_1', [#], [1]) -> Output('Reshape450_Output_0', [#], [128]),\n",
       " Composite(Reshape): Input('input_2', [#], [1]) -> Output('Reshape460_Output_0', [#], [128]))"
      ]
     },
     "execution_count": 12,
     "metadata": {},
     "output_type": "execute_result"
    }
   ],
   "source": [
    "input_1,input_2, model1,model2"
   ]
  },
  {
   "cell_type": "code",
   "execution_count": 13,
   "metadata": {
    "collapsed": true
   },
   "outputs": [],
   "source": [
    "model = Concatenate()([model1, model2])\n",
    "model = Dropout(0.2)(model)\n",
    "model = Dense(k, activation = 'relu')(model)\n",
    "model = Dropout(0.5)(model)\n",
    "model = Dense(int(k/4), activation = 'relu')(model)\n",
    "model = Dropout(0.5)(model)\n",
    "model = Dense(int(k/16), activation = 'relu')(model)\n",
    "model = Dropout(0.5)(model)\n",
    "yhat = Dense(1, activation = 'linear')(model)\n",
    "model = Model([input_1, input_2], yhat)\n",
    "model.compile(loss = 'mse', optimizer = \"adam\")"
   ]
  },
  {
   "cell_type": "markdown",
   "metadata": {},
   "source": [
    "和之前一樣，我們準備好訓練資料集，代入模型訓練。並通過均方差計算模型的擬合程度。"
   ]
  },
  {
   "cell_type": "code",
   "execution_count": 14,
   "metadata": {
    "collapsed": true
   },
   "outputs": [],
   "source": [
    "users = ratings['user_id'].values\n",
    "movies = ratings['movie_id'].values\n",
    "label = ratings['rating'].values\n",
    "X_train = [users, movies]\n",
    "y_train = label"
   ]
  },
  {
   "cell_type": "code",
   "execution_count": 15,
   "metadata": {
    "collapsed": false
   },
   "outputs": [
    {
     "name": "stdout",
     "output_type": "stream",
     "text": [
      "Epoch 1/20\n",
      "1000209/1000209 [==============================] - 99s 99us/step - loss: 4.4804\n",
      "Epoch 2/20\n",
      "1000209/1000209 [==============================] - 99s 99us/step - loss: 2.6435\n",
      "Epoch 3/20\n",
      "1000209/1000209 [==============================] - 98s 98us/step - loss: 1.7801\n",
      "Epoch 4/20\n",
      "1000209/1000209 [==============================] - 101s 101us/step - loss: 1.2963\n",
      "Epoch 5/20\n",
      "1000209/1000209 [==============================] - 102s 102us/step - loss: 1.0391\n",
      "Epoch 6/20\n",
      "1000209/1000209 [==============================] - 104s 104us/step - loss: 0.9390\n",
      "Epoch 7/20\n",
      "1000209/1000209 [==============================] - 103s 103us/step - loss: 0.9055\n",
      "Epoch 8/20\n",
      "1000209/1000209 [==============================] - 99s 99us/step - loss: 0.8869\n",
      "Epoch 9/20\n",
      "1000209/1000209 [==============================] - 99s 99us/step - loss: 0.8789\n",
      "Epoch 10/20\n",
      "1000209/1000209 [==============================] - 99s 99us/step - loss: 0.8724\n",
      "Epoch 11/20\n",
      "1000209/1000209 [==============================] - 98s 98us/step - loss: 0.8683\n",
      "Epoch 12/20\n",
      "1000209/1000209 [==============================] - 99s 99us/step - loss: 0.8632\n",
      "Epoch 13/20\n",
      "1000209/1000209 [==============================] - 98s 98us/step - loss: 0.8592\n",
      "Epoch 14/20\n",
      "1000209/1000209 [==============================] - 97s 97us/step - loss: 0.8560\n",
      "Epoch 15/20\n",
      "1000209/1000209 [==============================] - 97s 97us/step - loss: 0.8524\n",
      "Epoch 16/20\n",
      "1000209/1000209 [==============================] - 97s 97us/step - loss: 0.8487\n",
      "Epoch 17/20\n",
      "1000209/1000209 [==============================] - 98s 98us/step - loss: 0.8465\n",
      "Epoch 18/20\n",
      "1000209/1000209 [==============================] - 111s 111us/step - loss: 0.8432\n",
      "Epoch 19/20\n",
      "1000209/1000209 [==============================] - 110s 110us/step - loss: 0.8410\n",
      "Epoch 20/20\n",
      "1000209/1000209 [==============================] - 111s 111us/step - loss: 0.8381\n"
     ]
    },
    {
     "data": {
      "text/plain": [
       "<keras.callbacks.History at 0xad25908>"
      ]
     },
     "execution_count": 15,
     "metadata": {},
     "output_type": "execute_result"
    }
   ],
   "source": [
    "model.fit(X_train, y_train, batch_size = 1000, epochs = 10)"
   ]
  },
  {
   "cell_type": "code",
   "execution_count": 16,
   "metadata": {
    "collapsed": false
   },
   "outputs": [
    {
     "name": "stdout",
     "output_type": "stream",
     "text": [
      "1000209/1000209 [==============================] - 44s 44us/step\n",
      "0.719699076572\n"
     ]
    }
   ],
   "source": [
    "i,j = 10,99\n",
    "pred = model.predict([np.array([users[i]]), np.array([movies[j]])])\n",
    "\n",
    "mse = model.evaluate(x=X_train, y=y_train, batch_size=128)\n",
    "print(mse)"
   ]
  },
  {
   "cell_type": "code",
   "execution_count": null,
   "metadata": {
    "collapsed": true
   },
   "outputs": [],
   "source": []
  }
 ],
 "metadata": {
  "anaconda-cloud": {},
  "kernelspec": {
   "display_name": "Python [default]",
   "language": "python",
   "name": "python3"
  },
  "language_info": {
   "codemirror_mode": {
    "name": "ipython",
    "version": 3
   },
   "file_extension": ".py",
   "mimetype": "text/x-python",
   "name": "python",
   "nbconvert_exporter": "python",
   "pygments_lexer": "ipython3",
   "version": "3.5.2"
  }
 },
 "nbformat": 4,
 "nbformat_minor": 2
}
