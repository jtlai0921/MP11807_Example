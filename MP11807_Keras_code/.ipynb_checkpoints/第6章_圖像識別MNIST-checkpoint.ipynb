{
 "cells": [
  {
   "cell_type": "code",
   "execution_count": 1,
   "metadata": {
    "collapsed": false
   },
   "outputs": [
    {
     "name": "stderr",
     "output_type": "stream",
     "text": [
      "Using CNTK backend\n",
      "C:\\Anaconda3\\lib\\site-packages\\keras\\backend\\cntk_backend.py:21: UserWarning: CNTK backend warning: GPU is not detected. CNTK's CPU version is not fully optimized,please run with GPU to get better performance.\n",
      "  'CNTK backend warning: GPU is not detected. '\n"
     ]
    }
   ],
   "source": [
    "import numpy as np\n",
    "from keras.datasets import mnist\n",
    "import keras\n",
    "import gc\n",
    "\n",
    "from keras.models import Sequential, Model\n",
    "from keras.layers import Input, Dense, Dropout, Flatten\n",
    "from keras.layers.convolutional import Conv2D, MaxPooling2D"
   ]
  },
  {
   "cell_type": "code",
   "execution_count": 2,
   "metadata": {
    "collapsed": false
   },
   "outputs": [
    {
     "name": "stdout",
     "output_type": "stream",
     "text": [
      "(28, 28)\n",
      "5\n"
     ]
    }
   ],
   "source": [
    "(X_train, y_train), (X_test, y_test) = mnist.load_data()\n",
    "print(X_train[0].shape)\n",
    "print(y_train[0])\n",
    "X_train = X_train.reshape(X_train.shape[0],28,28,1).astype('float32') \n",
    "X_test = X_test.reshape(X_test.shape[0],28,28,1).astype('float32')\n",
    "X_train /= 255 \n",
    "X_test /= 255"
   ]
  },
  {
   "cell_type": "code",
   "execution_count": 3,
   "metadata": {
    "collapsed": true
   },
   "outputs": [],
   "source": [
    "'''\n",
    "讀者也可以使用keras.utils.to_categorical(y, num_classes=None)方法。\n",
    "這是是為了展示one hot encoding具體是怎麼生成的\n",
    "'''\n",
    "def tran_y(y): \n",
    "    y_ohe = np.zeros(10) \n",
    "    y_ohe[y] = 1 \n",
    "    return y_ohe"
   ]
  },
  {
   "cell_type": "code",
   "execution_count": 4,
   "metadata": {
    "collapsed": true
   },
   "outputs": [],
   "source": [
    "y_train_ohe = np.array([tran_y(y_train[i]) for i in range(len(y_train))]) \n",
    "y_test_ohe = np.array([tran_y(y_test[i]) for i in range(len(y_test))])\n",
    "y_train_ohe = y_train_ohe.astype('float32')\n",
    "y_test_ohe = y_test_ohe.astype('float32')"
   ]
  },
  {
   "cell_type": "markdown",
   "metadata": {},
   "source": [
    "定義模型結構。"
   ]
  },
  {
   "cell_type": "code",
   "execution_count": 5,
   "metadata": {
    "collapsed": true
   },
   "outputs": [],
   "source": [
    "model = Sequential() \n",
    "model.add(Conv2D(filters = 64, kernel_size = (3, 3), strides = (1, 1), padding = 'same', activation = 'relu',\n",
    "          input_shape = (28,28,1)))\n",
    "model.add(MaxPooling2D(pool_size = (2, 2)))\n",
    "model.add(Dropout(0.5))\n",
    "model.add(Conv2D(128, kernel_size = (3, 3), strides = (1, 1), padding = 'same', activation = 'relu')) \n",
    "model.add(MaxPooling2D(pool_size = (2, 2))) \n",
    "model.add(Dropout(0.5)) \n",
    "model.add(Conv2D(256, kernel_size = (3, 3), strides = (1, 1), padding = 'same', activation = 'relu')) \n",
    "model.add(MaxPooling2D(pool_size = (2, 2))) \n",
    "model.add(Dropout(0.5))\n",
    "model.add(Flatten())\n",
    "model.add(Dense(128, activation = 'relu')) \n",
    "model.add(Dense(64, activation = 'relu')) \n",
    "model.add(Dense(32, activation = 'relu')) \n",
    "model.add(Dense(10, activation = 'softmax'))"
   ]
  },
  {
   "cell_type": "markdown",
   "metadata": {},
   "source": [
    "我們可以定制各種選項，比如下面就定制了優化器選項。"
   ]
  },
  {
   "cell_type": "code",
   "execution_count": 6,
   "metadata": {
    "collapsed": true
   },
   "outputs": [],
   "source": [
    "adamoptimizer = keras.optimizers.Adam(lr = 1e-4)\n",
    "model.compile(loss = 'categorical_crossentropy', \n",
    "              optimizer = adamoptimizer, metrics = ['accuracy'])"
   ]
  },
  {
   "cell_type": "code",
   "execution_count": null,
   "metadata": {
    "collapsed": false
   },
   "outputs": [
    {
     "name": "stdout",
     "output_type": "stream",
     "text": [
      "Train on 60000 samples, validate on 10000 samples\n",
      "Epoch 1/10\n",
      " 7552/60000 [==>...........................] - ETA: 9:19 - loss: 2.2747 - acc: 0.1880"
     ]
    }
   ],
   "source": [
    "model.fit(X_train, y_train_ohe, validation_data = (X_test, y_test_ohe), \n",
    "          epochs = 10, batch_size = 128)"
   ]
  },
  {
   "cell_type": "code",
   "execution_count": null,
   "metadata": {
    "collapsed": true
   },
   "outputs": [],
   "source": []
  }
 ],
 "metadata": {
  "anaconda-cloud": {},
  "kernelspec": {
   "display_name": "Python [default]",
   "language": "python",
   "name": "python3"
  },
  "language_info": {
   "codemirror_mode": {
    "name": "ipython",
    "version": 3
   },
   "file_extension": ".py",
   "mimetype": "text/x-python",
   "name": "python",
   "nbconvert_exporter": "python",
   "pygments_lexer": "ipython3",
   "version": "3.5.2"
  }
 },
 "nbformat": 4,
 "nbformat_minor": 2
}
