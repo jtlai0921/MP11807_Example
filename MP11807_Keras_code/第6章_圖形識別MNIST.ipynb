{
 "cells": [
  {
   "cell_type": "code",
   "execution_count": 1,
   "metadata": {
    "collapsed": false
   },
   "outputs": [
    {
     "name": "stderr",
     "output_type": "stream",
     "text": [
      "Using CNTK backend\n",
      "C:\\Anaconda3\\lib\\site-packages\\keras\\backend\\cntk_backend.py:21: UserWarning: CNTK backend warning: GPU is not detected. CNTK's CPU version is not fully optimized,please run with GPU to get better performance.\n",
      "  'CNTK backend warning: GPU is not detected. '\n"
     ]
    }
   ],
   "source": [
    "import numpy as np\n",
    "from keras.datasets import mnist\n",
    "import keras\n",
    "import gc\n",
    "\n",
    "from keras.models import Sequential, Model\n",
    "from keras.layers import Input, Dense, Dropout, Flatten\n",
    "from keras.layers.convolutional import Conv2D, MaxPooling2D"
   ]
  },
  {
   "cell_type": "code",
   "execution_count": 2,
   "metadata": {
    "collapsed": false
   },
   "outputs": [
    {
     "name": "stdout",
     "output_type": "stream",
     "text": [
      "(28, 28)\n",
      "5\n"
     ]
    }
   ],
   "source": [
    "(X_train, y_train), (X_test, y_test) = mnist.load_data()\n",
    "print(X_train[0].shape)\n",
    "print(y_train[0])\n",
    "X_train = X_train.reshape(X_train.shape[0],28,28,1).astype('float32') \n",
    "X_test = X_test.reshape(X_test.shape[0],28,28,1).astype('float32')\n",
    "X_train /= 255 \n",
    "X_test /= 255"
   ]
  },
  {
   "cell_type": "code",
   "execution_count": 3,
   "metadata": {
    "collapsed": true
   },
   "outputs": [],
   "source": [
    "'''\n",
    "讀者也可以使用keras.utils.to_categorical(y, num_classes=None)方法。\n",
    "這是是為了展示one hot encoding具體是怎麼生成的\n",
    "'''\n",
    "def tran_y(y): \n",
    "    y_ohe = np.zeros(10) \n",
    "    y_ohe[y] = 1 \n",
    "    return y_ohe"
   ]
  },
  {
   "cell_type": "code",
   "execution_count": 4,
   "metadata": {
    "collapsed": true
   },
   "outputs": [],
   "source": [
    "y_train_ohe = np.array([tran_y(y_train[i]) for i in range(len(y_train))]) \n",
    "y_test_ohe = np.array([tran_y(y_test[i]) for i in range(len(y_test))])\n",
    "y_train_ohe = y_train_ohe.astype('float32')\n",
    "y_test_ohe = y_test_ohe.astype('float32')"
   ]
  },
  {
   "cell_type": "markdown",
   "metadata": {},
   "source": [
    "定義模型結構。"
   ]
  },
  {
   "cell_type": "code",
   "execution_count": 5,
   "metadata": {
    "collapsed": true
   },
   "outputs": [],
   "source": [
    "model = Sequential() \n",
    "model.add(Conv2D(filters = 64, kernel_size = (3, 3), strides = (1, 1), padding = 'same', activation = 'relu',\n",
    "          input_shape = (28,28,1)))\n",
    "model.add(MaxPooling2D(pool_size = (2, 2)))\n",
    "model.add(Dropout(0.5))\n",
    "model.add(Conv2D(128, kernel_size = (3, 3), strides = (1, 1), padding = 'same', activation = 'relu')) \n",
    "model.add(MaxPooling2D(pool_size = (2, 2))) \n",
    "model.add(Dropout(0.5)) \n",
    "model.add(Conv2D(256, kernel_size = (3, 3), strides = (1, 1), padding = 'same', activation = 'relu')) \n",
    "model.add(MaxPooling2D(pool_size = (2, 2))) \n",
    "model.add(Dropout(0.5))\n",
    "model.add(Flatten())\n",
    "model.add(Dense(128, activation = 'relu')) \n",
    "model.add(Dense(64, activation = 'relu')) \n",
    "model.add(Dense(32, activation = 'relu')) \n",
    "model.add(Dense(10, activation = 'softmax'))"
   ]
  },
  {
   "cell_type": "markdown",
   "metadata": {},
   "source": [
    "我們可以定制各種選項，比如下面就定制了優化器選項。"
   ]
  },
  {
   "cell_type": "code",
   "execution_count": 6,
   "metadata": {
    "collapsed": true
   },
   "outputs": [],
   "source": [
    "adamoptimizer = keras.optimizers.Adam(lr = 1e-4)\n",
    "model.compile(loss = 'categorical_crossentropy', \n",
    "              optimizer = adamoptimizer, metrics = ['accuracy'])"
   ]
  },
  {
   "cell_type": "code",
   "execution_count": 7,
   "metadata": {
    "collapsed": false,
    "scrolled": true
   },
   "outputs": [
    {
     "name": "stdout",
     "output_type": "stream",
     "text": [
      "Train on 60000 samples, validate on 10000 samples\n",
      "Epoch 1/10\n",
      "60000/60000 [==============================] - 608s 10ms/step - loss: 1.1476 - acc: 0.6115 - val_loss: 0.3013 - val_acc: 0.9190\n",
      "Epoch 2/10\n",
      "60000/60000 [==============================] - 606s 10ms/step - loss: 0.3084 - acc: 0.9024 - val_loss: 0.1463 - val_acc: 0.9565\n",
      "Epoch 3/10\n",
      "60000/60000 [==============================] - 629s 10ms/step - loss: 0.2030 - acc: 0.9369 - val_loss: 0.1009 - val_acc: 0.9692\n",
      "Epoch 4/10\n",
      "60000/60000 [==============================] - 689s 11ms/step - loss: 0.1599 - acc: 0.9496 - val_loss: 0.0792 - val_acc: 0.9754\n",
      "Epoch 5/10\n",
      "60000/60000 [==============================] - 566s 9ms/step - loss: 0.1332 - acc: 0.9582 - val_loss: 0.0654 - val_acc: 0.9782\n",
      "Epoch 6/10\n",
      "60000/60000 [==============================] - 611s 10ms/step - loss: 0.1195 - acc: 0.9621 - val_loss: 0.0579 - val_acc: 0.9822\n",
      "Epoch 7/10\n",
      "60000/60000 [==============================] - 612s 10ms/step - loss: 0.1046 - acc: 0.9665 - val_loss: 0.0523 - val_acc: 0.9831\n",
      "Epoch 8/10\n",
      "60000/60000 [==============================] - 616s 10ms/step - loss: 0.0934 - acc: 0.9707 - val_loss: 0.0461 - val_acc: 0.9848\n",
      "Epoch 9/10\n",
      "60000/60000 [==============================] - 581s 10ms/step - loss: 0.0867 - acc: 0.9729 - val_loss: 0.0403 - val_acc: 0.9877\n",
      "Epoch 10/10\n",
      "60000/60000 [==============================] - 570s 9ms/step - loss: 0.0795 - acc: 0.9752 - val_loss: 0.0464 - val_acc: 0.9846\n"
     ]
    },
    {
     "data": {
      "text/plain": [
       "<keras.callbacks.History at 0x8966048>"
      ]
     },
     "execution_count": 7,
     "metadata": {},
     "output_type": "execute_result"
    }
   ],
   "source": [
    "model.fit(X_train, y_train_ohe, validation_data = (X_test, y_test_ohe), \n",
    "          epochs = 10, batch_size = 128)"
   ]
  },
  {
   "cell_type": "code",
   "execution_count": null,
   "metadata": {
    "collapsed": true
   },
   "outputs": [],
   "source": []
  }
 ],
 "metadata": {
  "anaconda-cloud": {},
  "kernelspec": {
   "display_name": "Python [default]",
   "language": "python",
   "name": "python3"
  },
  "language_info": {
   "codemirror_mode": {
    "name": "ipython",
    "version": 3
   },
   "file_extension": ".py",
   "mimetype": "text/x-python",
   "name": "python",
   "nbconvert_exporter": "python",
   "pygments_lexer": "ipython3",
   "version": "3.5.2"
  }
 },
 "nbformat": 4,
 "nbformat_minor": 2
}
